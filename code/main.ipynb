{
 "cells": [
  {
   "cell_type": "code",
   "execution_count": 1,
   "metadata": {},
   "outputs": [],
   "source": [
    "from const_case import big_r_est\n",
    "from gamma_case import big_r_gamma_est\n",
    "from viz import *"
   ]
  },
  {
   "cell_type": "markdown",
   "metadata": {},
   "source": [
    "# Single R Case"
   ]
  },
  {
   "cell_type": "code",
   "execution_count": null,
   "metadata": {},
   "outputs": [],
   "source": [
    "big_r = 5 # radius of a sphere\n",
    "n_sim = 1000 # number of simulations, should be divisible by n_fol\n",
    "\n",
    "# Parameters for the R estimation function (est_box_const)\n",
    "n_sim_set = [10, 100, 1000] # set of number of simulations for the R estimation function\n",
    "n_rep = 30 # number of repetitions for the R estimation function"
   ]
  },
  {
   "cell_type": "code",
   "execution_count": null,
   "metadata": {},
   "outputs": [],
   "source": [
    "pdf_const(big_r, n_sim)"
   ]
  },
  {
   "cell_type": "code",
   "execution_count": null,
   "metadata": {},
   "outputs": [],
   "source": [
    "big_r_est(big_r, n_sim, stats = True)"
   ]
  },
  {
   "cell_type": "code",
   "execution_count": null,
   "metadata": {},
   "outputs": [],
   "source": [
    "est_box_const(big_r, n_sim_set, n_rep)"
   ]
  },
  {
   "cell_type": "markdown",
   "metadata": {},
   "source": [
    "# Gamma R Case"
   ]
  },
  {
   "cell_type": "code",
   "execution_count": 16,
   "metadata": {},
   "outputs": [],
   "source": [
    "theta = 2 # shape parameter\n",
    "k = 2 # scale parameter\n",
    "n_fol = 1000 # number of follicules\n",
    "\n",
    "# Parameters for testing with different theta and k values\n",
    "# functions viz_gamma_grid and viz_gamma_shift_grid \n",
    "k_set = [0.5, 1, 1.5]\n",
    "theta_set = [1, 2, 3]"
   ]
  },
  {
   "cell_type": "code",
   "execution_count": null,
   "metadata": {},
   "outputs": [],
   "source": [
    "pdf_gamma(theta, k, n_fol)"
   ]
  },
  {
   "cell_type": "code",
   "execution_count": 8,
   "metadata": {},
   "outputs": [],
   "source": [
    "theta = 8"
   ]
  },
  {
   "cell_type": "code",
   "execution_count": null,
   "metadata": {},
   "outputs": [],
   "source": [
    "viz_gamma_shift(theta, k, n_fol, stats = True)"
   ]
  },
  {
   "cell_type": "code",
   "execution_count": null,
   "metadata": {},
   "outputs": [],
   "source": [
    "viz_gamma_grid(theta_set, k_set, n_fol, mode = \"Default\")"
   ]
  },
  {
   "cell_type": "code",
   "execution_count": null,
   "metadata": {},
   "outputs": [],
   "source": [
    "viz_gamma_grid(theta_set, k_set, n_fol, mode = \"Shift\")"
   ]
  },
  {
   "cell_type": "code",
   "execution_count": null,
   "metadata": {},
   "outputs": [],
   "source": [
    "big_r_gamma_est(theta, k, n_fol)"
   ]
  },
  {
   "cell_type": "code",
   "execution_count": 13,
   "metadata": {},
   "outputs": [],
   "source": [
    "theta_set = [0.25, 0.5, 1, 3, 5, 10, 15, 20, 25, 30, 35, 40, 45, 50]\n",
    "# for a_set we will choose scale = 2\n",
    "k_set = [0.25, 0.5, 1, 3, 5, 10, 15, 20, 25, 30, 35, 40, 45, 50]\n",
    "# for scale_set we will choose a = 2"
   ]
  },
  {
   "cell_type": "code",
   "execution_count": null,
   "metadata": {},
   "outputs": [],
   "source": [
    "params_shift(theta_set, mode = \"theta\")"
   ]
  },
  {
   "cell_type": "code",
   "execution_count": null,
   "metadata": {},
   "outputs": [],
   "source": [
    "params_shift(k_set, mode = \"k\")"
   ]
  }
 ],
 "metadata": {
  "kernelspec": {
   "display_name": "Python 3",
   "language": "python",
   "name": "python3"
  },
  "language_info": {
   "codemirror_mode": {
    "name": "ipython",
    "version": 3
   },
   "file_extension": ".py",
   "mimetype": "text/x-python",
   "name": "python",
   "nbconvert_exporter": "python",
   "pygments_lexer": "ipython3",
   "version": "3.13.2"
  }
 },
 "nbformat": 4,
 "nbformat_minor": 2
}
